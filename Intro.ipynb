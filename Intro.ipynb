{
  "nbformat": 4,
  "nbformat_minor": 0,
  "metadata": {
    "colab": {
      "provenance": [],
      "authorship_tag": "ABX9TyOpaEgpbJOuUIIviFfYkHOl",
      "include_colab_link": true
    },
    "kernelspec": {
      "name": "python3",
      "display_name": "Python 3"
    },
    "language_info": {
      "name": "python"
    }
  },
  "cells": [
    {
      "cell_type": "markdown",
      "metadata": {
        "id": "view-in-github",
        "colab_type": "text"
      },
      "source": [
        "<a href=\"https://colab.research.google.com/github/TarekBEN78/GIT/blob/dev/Intro.ipynb\" target=\"_parent\"><img src=\"https://colab.research.google.com/assets/colab-badge.svg\" alt=\"Open In Colab\"/></a>"
      ]
    },
    {
      "cell_type": "code",
      "execution_count": null,
      "metadata": {
        "colab": {
          "base_uri": "https://localhost:8080/"
        },
        "id": "FPWfQynUlw82",
        "outputId": "d1b32a51-749a-4392-d458-6987f1f8b963"
      },
      "outputs": [
        {
          "output_type": "stream",
          "name": "stdout",
          "text": [
            "Hello Tarek\n"
          ]
        }
      ],
      "source": [
        "print ('Hello Tarek')"
      ]
    },
    {
      "cell_type": "code",
      "source": [
        "liste = [\"tarek\",\"wassila\",\"amir\"]\n",
        "print (liste)"
      ],
      "metadata": {
        "colab": {
          "base_uri": "https://localhost:8080/"
        },
        "id": "vBhvBTO1r_Z1",
        "outputId": "897d7cec-31b4-4510-f81f-8f80b0b79064"
      },
      "execution_count": 1,
      "outputs": [
        {
          "output_type": "stream",
          "name": "stdout",
          "text": [
            "['tarek', 'wassila', 'amir']\n"
          ]
        }
      ]
    }
  ]
}